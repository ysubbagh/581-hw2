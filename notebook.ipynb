{
 "cells": [
  {
   "cell_type": "markdown",
   "metadata": {},
   "source": [
    "# Homework 2 #\n",
    "\n",
    "### CSS 581 ###\n",
    "## Yasmine Subbagh ##\n",
    "\n"
   ]
  },
  {
   "cell_type": "markdown",
   "metadata": {},
   "source": [
    "__Step 1: Getting Code to Run__\n",
    "\n",
    "I had a few challenges starting out just to get the code to run. Luckily, someone in the discord was kind enough to supply the requirments for the project. I created a virtual enviroment to avoid conflicts with other more up to date packages I have. After downloading all the neccessary packages and correct versions, some modifications to the syntax and logic of the code needed to be modified to run. After everything was running properly and running the neccesary files I got the images below for the 4 original cusines."
   ]
  },
  {
   "cell_type": "code",
   "execution_count": 8,
   "metadata": {
    "vscode": {
     "languageId": "shellscript"
    }
   },
   "outputs": [
    {
     "name": "stdout",
     "output_type": "stream",
     "text": [
      "(1018, 236) [0, 341, 543, 741, 1018]\n",
      "/Users/yasminesubbagh/Documents/Dev/Github/581-hw2/./Flavor-Network-master/code/recipe_clustering.py:39: UserWarning: *c* argument looks like a single numeric RGB or RGBA sequence, which should be avoided as value-mapping will have precedence in case its length matches with *x* & *y*.  Please use the *color* keyword-argument or provide a 2D array with a single row if you intend to specify the same RGB or RGBA value for all points.\n",
      "  plt.scatter(tsne[lenlist[i]:lenlist[i+1],0],\\\n",
      "(921, 1107) [0, 338, 540, 646, 921]\n",
      "/Users/yasminesubbagh/Documents/Dev/Github/581-hw2/./Flavor-Network-master/code/recipe_clustering.py:39: UserWarning: *c* argument looks like a single numeric RGB or RGBA sequence, which should be avoided as value-mapping will have precedence in case its length matches with *x* & *y*.  Please use the *color* keyword-argument or provide a 2D array with a single row if you intend to specify the same RGB or RGBA value for all points.\n",
      "  plt.scatter(tsne[lenlist[i]:lenlist[i+1],0],\\\n",
      "(921, 1107) [0, 338, 540, 646, 921]\n",
      "(1018, 236) [0, 341, 543, 741, 1018]\n"
     ]
    }
   ],
   "source": [
    "# just for show, code is now modified to show all cusinies, but this created the orignial 4 clusters seen in the images below.\n",
    "!python3 ./Flavor-Network-master/code/recipe_clustering.py"
   ]
  },
  {
   "cell_type": "markdown",
   "metadata": {},
   "source": [
    "![4-cluster-ingr](imgs/4-cluster-ingr.png)\n",
    "\n",
    "![4-cluster-flavor](imgs/4-cluster-taste.png)"
   ]
  },
  {
   "cell_type": "markdown",
   "metadata": {},
   "source": [
    "__Part 1: Clustering ALL cuisines__\n",
    "\n",
    "Next the code needed to be modified to cluster all of the cuisines ()"
   ]
  }
 ],
 "metadata": {
  "kernelspec": {
   "display_name": ".venv",
   "language": "python",
   "name": "python3"
  },
  "language_info": {
   "codemirror_mode": {
    "name": "ipython",
    "version": 3
   },
   "file_extension": ".py",
   "mimetype": "text/x-python",
   "name": "python",
   "nbconvert_exporter": "python",
   "pygments_lexer": "ipython3",
   "version": "3.11.10"
  }
 },
 "nbformat": 4,
 "nbformat_minor": 2
}
